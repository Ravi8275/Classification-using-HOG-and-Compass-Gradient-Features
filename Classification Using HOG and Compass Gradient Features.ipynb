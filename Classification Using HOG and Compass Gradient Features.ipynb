{
 "cells": [
  {
   "cell_type": "markdown",
   "id": "556dd7b9",
   "metadata": {},
   "source": [
    "# Importing Libraries"
   ]
  },
  {
   "cell_type": "code",
   "execution_count": 784,
   "id": "2f1b4b2d",
   "metadata": {},
   "outputs": [],
   "source": [
    "import os\n",
    "import shutil \n",
    "import random\n",
    "from sklearn.neighbors import KNeighborsClassifier\n",
    "from skimage import io,transform,feature,color,exposure\n",
    "import numpy as np\n",
    "from sklearn.model_selection import train_test_split,cross_val_score\n",
    "from sklearn.metrics import accuracy_score,confusion_matrix,roc_curve\n",
    "from sklearn.svm import SVC\n",
    "from sklearn.preprocessing import StandardScaler\n",
    "from sklearn.utils import shuffle\n",
    "import matplotlib.pyplot as plt\n",
    "import seaborn as sns\n",
    "import pandas as pd\n",
    "from skimage.filters import scharr"
   ]
  },
  {
   "cell_type": "markdown",
   "id": "ccd48077",
   "metadata": {},
   "source": [
    "# Creation of Training Dataset (no need to run everytime)"
   ]
  },
  {
   "cell_type": "code",
   "execution_count": 171,
   "id": "86f04d6e",
   "metadata": {},
   "outputs": [],
   "source": [
    "#Providing with the folder paths\n",
    "Data_folder='synthetic' # Source dataset where the digit image files are stored in their respective folder\n",
    "output_folder='Train_dataset'# Destination folder which should contain all the image files readily available to train the algorithm\n",
    "output_folder_path=os.path.join(Data_folder,output_folder) #providing the path of the destination file which was intended to be in the same folder"
   ]
  },
  {
   "cell_type": "code",
   "execution_count": 986,
   "id": "1653bdd8",
   "metadata": {},
   "outputs": [],
   "source": [
    "# Creation of the training dataset folder if it doesn't exist\n",
    "if not os.path.exists(output_folder_path):\n",
    "    os.makedirs(output_folder_path)\n",
    "images_paths = []\n",
    "labels_list = []\n",
    "# Copying images from individual folders to train dataset folder\n",
    "for digit_folder in os.listdir(Data_folder):# unwrapping the main folder and iterating over each subfolder(digit folder)\n",
    "    digit_folder_path = os.path.join(Data_folder, digit_folder)#obtaining the path of each digit folder with the help of main folder\n",
    "    if os.path.isdir(digit_folder_path):#Checking for the presence of unneccessary directories\n",
    "        if digit_folder.isdigit(): \n",
    "            for image_file in os.listdir(digit_folder_path): # iterating over each image in each digit folder\n",
    "                image_path = os.path.join(digit_folder_path, image_file)#Obtaining the image file path\n",
    "                output_image_path = os.path.join(output_folder_path, image_file)#Obtaining the path for image in the destination folder\n",
    "                # Checking for pre-existing/duplicacy of the same image file\n",
    "                if not os.path.exists(output_image_path):\n",
    "                    shutil.copy(image_path, output_image_path) #Creation of the dataset folder\n",
    "                # Storing file path and corresponding labels\n",
    "                images_paths.append(output_image_path)\n",
    "                labels_list.append(int(digit_folder))\n",
    "#for image_path, label in zip(images_paths, labels_list):\n",
    "    #print(f\"Sample '{os.path.basename(image_path)}' copied to '{output_folder_path}' with label '{label}'\")\n"
   ]
  },
  {
   "cell_type": "code",
   "execution_count": 987,
   "id": "7365c654",
   "metadata": {},
   "outputs": [],
   "source": [
    "labels_list"
   ]
  },
  {
   "cell_type": "code",
   "execution_count": 988,
   "id": "737283ad",
   "metadata": {},
   "outputs": [],
   "source": [
    "images_paths"
   ]
  },
  {
   "cell_type": "code",
   "execution_count": 262,
   "id": "e40a32db",
   "metadata": {},
   "outputs": [
    {
     "data": {
      "text/plain": [
       "11"
      ]
     },
     "execution_count": 262,
     "metadata": {},
     "output_type": "execute_result"
    }
   ],
   "source": [
    "len (os.listdir('testdata/'))"
   ]
  },
  {
   "cell_type": "markdown",
   "id": "116338d4",
   "metadata": {},
   "source": [
    "# Feature extraction function"
   ]
  },
  {
   "cell_type": "code",
   "execution_count": 953,
   "id": "52eeeed8",
   "metadata": {},
   "outputs": [],
   "source": [
    "def loading_and_feature_engineering(trainingdataset,image_extension='.jpg'):\n",
    "    images = []\n",
    "    Label_list = []\n",
    "    # Creating an empty list for images and labels to append further.\n",
    "    for root,dirs,files in os.walk(trainingdataset):\n",
    "        for imgfile in files:\n",
    "            # Checking if the file has the specified image extension\n",
    "            if imgfile.lower().endswith(image_extension.lower()):\n",
    "                every_image_path = os.path.join(root, imgfile)\n",
    "                num_image = io.imread(every_image_path)\n",
    "                hog_features = feature.hog(num_image, orientations=9, pixels_per_cell=(4,4), cells_per_block=(2,2), block_norm='L2-Hys')\n",
    "                images.append(hog_features)\n",
    "                Labels = int(imgfile.split('_')[1])\n",
    "                Label_list.append(Labels)\n",
    "    return images, Label_list"
   ]
  },
  {
   "cell_type": "markdown",
   "id": "ad9d6168",
   "metadata": {},
   "source": [
    "__Feature extraction for training data__"
   ]
  },
  {
   "cell_type": "code",
   "execution_count": 954,
   "id": "371c36ed",
   "metadata": {},
   "outputs": [],
   "source": [
    "#Image samples folder\n",
    "folder_details='synthetic/Train_dataset/'"
   ]
  },
  {
   "cell_type": "code",
   "execution_count": 955,
   "id": "de3890b4",
   "metadata": {},
   "outputs": [],
   "source": [
    "# Assigning hog features and labels\n",
    "Hog_features,respective_labels=loading_and_feature_engineering(folder_details)# function call "
   ]
  },
  {
   "cell_type": "code",
   "execution_count": 956,
   "id": "d2a7088e",
   "metadata": {},
   "outputs": [
    {
     "data": {
      "text/plain": [
       "6000"
      ]
     },
     "execution_count": 956,
     "metadata": {},
     "output_type": "execute_result"
    }
   ],
   "source": [
    "#Checking the length of hog features\n",
    "len(Hog_features)"
   ]
  },
  {
   "cell_type": "markdown",
   "id": "09827f6c",
   "metadata": {},
   "source": [
    "- 6000 hog features as there are 6000 sample images"
   ]
  },
  {
   "cell_type": "code",
   "execution_count": 957,
   "id": "8fd0e65f",
   "metadata": {},
   "outputs": [
    {
     "data": {
      "text/plain": [
       "(324,)"
      ]
     },
     "execution_count": 957,
     "metadata": {},
     "output_type": "execute_result"
    }
   ],
   "source": [
    "#Checking the shape of each hog feature\n",
    "Hog_features[1].shape"
   ]
  },
  {
   "cell_type": "code",
   "execution_count": 958,
   "id": "16a302c9",
   "metadata": {},
   "outputs": [
    {
     "data": {
      "text/plain": [
       "6000"
      ]
     },
     "execution_count": 958,
     "metadata": {},
     "output_type": "execute_result"
    }
   ],
   "source": [
    "#Checking the length of labels\n",
    "len(respective_labels)"
   ]
  },
  {
   "cell_type": "code",
   "execution_count": 959,
   "id": "29091ac2",
   "metadata": {},
   "outputs": [
    {
     "data": {
      "text/plain": [
       "array([0, 1, 2, 3, 4, 5, 6, 7, 8, 9])"
      ]
     },
     "execution_count": 959,
     "metadata": {},
     "output_type": "execute_result"
    }
   ],
   "source": [
    "u=np.unique(respective_labels)\n",
    "u"
   ]
  },
  {
   "cell_type": "code",
   "execution_count": 960,
   "id": "a225df29",
   "metadata": {},
   "outputs": [],
   "source": [
    "# converting the lists into arrays\n",
    "hog_data=np.array(Hog_features)\n",
    "Final_labels=np.array(respective_labels)"
   ]
  },
  {
   "cell_type": "code",
   "execution_count": 961,
   "id": "8719c5e1",
   "metadata": {},
   "outputs": [
    {
     "data": {
      "text/plain": [
       "array([[0.1940781 , 0.        , 0.        , ..., 0.        , 0.        ,\n",
       "        0.19850558],\n",
       "       [0.0625129 , 0.        , 0.        , ..., 0.02483065, 0.        ,\n",
       "        0.        ],\n",
       "       [0.19246778, 0.06127575, 0.03758159, ..., 0.        , 0.06048451,\n",
       "        0.        ],\n",
       "       ...,\n",
       "       [0.18735622, 0.27706968, 0.04491582, ..., 0.        , 0.        ,\n",
       "        0.02704405],\n",
       "       [0.03812497, 0.01092194, 0.01117115, ..., 0.03954877, 0.        ,\n",
       "        0.08172419],\n",
       "       [0.30643326, 0.25485597, 0.        , ..., 0.        , 0.        ,\n",
       "        0.34229484]])"
      ]
     },
     "execution_count": 961,
     "metadata": {},
     "output_type": "execute_result"
    }
   ],
   "source": [
    "hog_data"
   ]
  },
  {
   "cell_type": "code",
   "execution_count": 962,
   "id": "c443e72c",
   "metadata": {},
   "outputs": [
    {
     "data": {
      "text/plain": [
       "array([4, 3, 7, ..., 7, 6, 2])"
      ]
     },
     "execution_count": 962,
     "metadata": {},
     "output_type": "execute_result"
    }
   ],
   "source": [
    "Final_labels"
   ]
  },
  {
   "cell_type": "code",
   "execution_count": 963,
   "id": "b810419f",
   "metadata": {},
   "outputs": [],
   "source": [
    "# Scaling the hog features before processing\n",
    "scaler=StandardScaler() #Initialising the object for scaling \n",
    "scaled_hog=scaler.fit_transform(hog_data) #performing scaling"
   ]
  },
  {
   "cell_type": "markdown",
   "id": "f11cd54f",
   "metadata": {},
   "source": [
    "__Feature extraction for test data__"
   ]
  },
  {
   "cell_type": "code",
   "execution_count": 964,
   "id": "8d425d12",
   "metadata": {},
   "outputs": [],
   "source": [
    "test_folder='testdata/'"
   ]
  },
  {
   "cell_type": "code",
   "execution_count": 965,
   "id": "1da65130",
   "metadata": {},
   "outputs": [],
   "source": [
    "test_hog_features,test_labels=loading_and_feature_engineering(test_folder)"
   ]
  },
  {
   "cell_type": "code",
   "execution_count": 989,
   "id": "3a65e6ae",
   "metadata": {},
   "outputs": [],
   "source": [
    "test_hog_features"
   ]
  },
  {
   "cell_type": "code",
   "execution_count": 990,
   "id": "50590db5",
   "metadata": {},
   "outputs": [],
   "source": [
    "test_labels"
   ]
  },
  {
   "cell_type": "code",
   "execution_count": 968,
   "id": "8aae06c1",
   "metadata": {},
   "outputs": [],
   "source": [
    "Test_hog_features=np.array(test_hog_features)\n",
    "Test_labels=np.array(test_labels)"
   ]
  },
  {
   "cell_type": "code",
   "execution_count": 969,
   "id": "4735af30",
   "metadata": {},
   "outputs": [
    {
     "data": {
      "text/plain": [
       "2500"
      ]
     },
     "execution_count": 969,
     "metadata": {},
     "output_type": "execute_result"
    }
   ],
   "source": [
    "len(Test_hog_features)"
   ]
  },
  {
   "cell_type": "code",
   "execution_count": 970,
   "id": "29e72ed3",
   "metadata": {},
   "outputs": [
    {
     "data": {
      "text/plain": [
       "2500"
      ]
     },
     "execution_count": 970,
     "metadata": {},
     "output_type": "execute_result"
    }
   ],
   "source": [
    "len(test_labels)"
   ]
  },
  {
   "cell_type": "markdown",
   "id": "6b83dde6",
   "metadata": {},
   "source": [
    "__Performing the training and testing split__"
   ]
  },
  {
   "cell_type": "code",
   "execution_count": 971,
   "id": "12b68645",
   "metadata": {},
   "outputs": [],
   "source": [
    "X_train, X_val, y_train, y_val = train_test_split(hog_data,Final_labels, test_size=0.1, random_state=42)"
   ]
  },
  {
   "cell_type": "code",
   "execution_count": 972,
   "id": "6f6cf694",
   "metadata": {},
   "outputs": [
    {
     "data": {
      "text/plain": [
       "array([[0.29381876, 0.02679286, 0.01406586, ..., 0.        , 0.        ,\n",
       "        0.02091407],\n",
       "       [0.15069611, 0.01247135, 0.01856515, ..., 0.01181414, 0.12370055,\n",
       "        0.        ],\n",
       "       [0.18854115, 0.        , 0.00720404, ..., 0.        , 0.        ,\n",
       "        0.07542121],\n",
       "       ...,\n",
       "       [0.04035598, 0.        , 0.        , ..., 0.00850113, 0.2060556 ,\n",
       "        0.3098296 ],\n",
       "       [0.26289179, 0.        , 0.01030292, ..., 0.        , 0.06063076,\n",
       "        0.        ],\n",
       "       [0.31851145, 0.01299277, 0.        , ..., 0.        , 0.        ,\n",
       "        0.16611765]])"
      ]
     },
     "execution_count": 972,
     "metadata": {},
     "output_type": "execute_result"
    }
   ],
   "source": [
    "X_train"
   ]
  },
  {
   "cell_type": "code",
   "execution_count": 973,
   "id": "478742b8",
   "metadata": {},
   "outputs": [
    {
     "data": {
      "text/plain": [
       "array([7, 3, 8, ..., 5, 3, 2])"
      ]
     },
     "execution_count": 973,
     "metadata": {},
     "output_type": "execute_result"
    }
   ],
   "source": [
    "y_train"
   ]
  },
  {
   "cell_type": "markdown",
   "id": "a6db60ab",
   "metadata": {},
   "source": [
    "__Creation of KNN classifier__"
   ]
  },
  {
   "cell_type": "code",
   "execution_count": 974,
   "id": "5a9ddb08",
   "metadata": {},
   "outputs": [
    {
     "data": {
      "text/html": [
       "<style>#sk-container-id-31 {color: black;background-color: white;}#sk-container-id-31 pre{padding: 0;}#sk-container-id-31 div.sk-toggleable {background-color: white;}#sk-container-id-31 label.sk-toggleable__label {cursor: pointer;display: block;width: 100%;margin-bottom: 0;padding: 0.3em;box-sizing: border-box;text-align: center;}#sk-container-id-31 label.sk-toggleable__label-arrow:before {content: \"▸\";float: left;margin-right: 0.25em;color: #696969;}#sk-container-id-31 label.sk-toggleable__label-arrow:hover:before {color: black;}#sk-container-id-31 div.sk-estimator:hover label.sk-toggleable__label-arrow:before {color: black;}#sk-container-id-31 div.sk-toggleable__content {max-height: 0;max-width: 0;overflow: hidden;text-align: left;background-color: #f0f8ff;}#sk-container-id-31 div.sk-toggleable__content pre {margin: 0.2em;color: black;border-radius: 0.25em;background-color: #f0f8ff;}#sk-container-id-31 input.sk-toggleable__control:checked~div.sk-toggleable__content {max-height: 200px;max-width: 100%;overflow: auto;}#sk-container-id-31 input.sk-toggleable__control:checked~label.sk-toggleable__label-arrow:before {content: \"▾\";}#sk-container-id-31 div.sk-estimator input.sk-toggleable__control:checked~label.sk-toggleable__label {background-color: #d4ebff;}#sk-container-id-31 div.sk-label input.sk-toggleable__control:checked~label.sk-toggleable__label {background-color: #d4ebff;}#sk-container-id-31 input.sk-hidden--visually {border: 0;clip: rect(1px 1px 1px 1px);clip: rect(1px, 1px, 1px, 1px);height: 1px;margin: -1px;overflow: hidden;padding: 0;position: absolute;width: 1px;}#sk-container-id-31 div.sk-estimator {font-family: monospace;background-color: #f0f8ff;border: 1px dotted black;border-radius: 0.25em;box-sizing: border-box;margin-bottom: 0.5em;}#sk-container-id-31 div.sk-estimator:hover {background-color: #d4ebff;}#sk-container-id-31 div.sk-parallel-item::after {content: \"\";width: 100%;border-bottom: 1px solid gray;flex-grow: 1;}#sk-container-id-31 div.sk-label:hover label.sk-toggleable__label {background-color: #d4ebff;}#sk-container-id-31 div.sk-serial::before {content: \"\";position: absolute;border-left: 1px solid gray;box-sizing: border-box;top: 0;bottom: 0;left: 50%;z-index: 0;}#sk-container-id-31 div.sk-serial {display: flex;flex-direction: column;align-items: center;background-color: white;padding-right: 0.2em;padding-left: 0.2em;position: relative;}#sk-container-id-31 div.sk-item {position: relative;z-index: 1;}#sk-container-id-31 div.sk-parallel {display: flex;align-items: stretch;justify-content: center;background-color: white;position: relative;}#sk-container-id-31 div.sk-item::before, #sk-container-id-31 div.sk-parallel-item::before {content: \"\";position: absolute;border-left: 1px solid gray;box-sizing: border-box;top: 0;bottom: 0;left: 50%;z-index: -1;}#sk-container-id-31 div.sk-parallel-item {display: flex;flex-direction: column;z-index: 1;position: relative;background-color: white;}#sk-container-id-31 div.sk-parallel-item:first-child::after {align-self: flex-end;width: 50%;}#sk-container-id-31 div.sk-parallel-item:last-child::after {align-self: flex-start;width: 50%;}#sk-container-id-31 div.sk-parallel-item:only-child::after {width: 0;}#sk-container-id-31 div.sk-dashed-wrapped {border: 1px dashed gray;margin: 0 0.4em 0.5em 0.4em;box-sizing: border-box;padding-bottom: 0.4em;background-color: white;}#sk-container-id-31 div.sk-label label {font-family: monospace;font-weight: bold;display: inline-block;line-height: 1.2em;}#sk-container-id-31 div.sk-label-container {text-align: center;}#sk-container-id-31 div.sk-container {/* jupyter's `normalize.less` sets `[hidden] { display: none; }` but bootstrap.min.css set `[hidden] { display: none !important; }` so we also need the `!important` here to be able to override the default hidden behavior on the sphinx rendered scikit-learn.org. See: https://github.com/scikit-learn/scikit-learn/issues/21755 */display: inline-block !important;position: relative;}#sk-container-id-31 div.sk-text-repr-fallback {display: none;}</style><div id=\"sk-container-id-31\" class=\"sk-top-container\"><div class=\"sk-text-repr-fallback\"><pre>KNeighborsClassifier(n_neighbors=1)</pre><b>In a Jupyter environment, please rerun this cell to show the HTML representation or trust the notebook. <br />On GitHub, the HTML representation is unable to render, please try loading this page with nbviewer.org.</b></div><div class=\"sk-container\" hidden><div class=\"sk-item\"><div class=\"sk-estimator sk-toggleable\"><input class=\"sk-toggleable__control sk-hidden--visually\" id=\"sk-estimator-id-31\" type=\"checkbox\" checked><label for=\"sk-estimator-id-31\" class=\"sk-toggleable__label sk-toggleable__label-arrow\">KNeighborsClassifier</label><div class=\"sk-toggleable__content\"><pre>KNeighborsClassifier(n_neighbors=1)</pre></div></div></div></div></div>"
      ],
      "text/plain": [
       "KNeighborsClassifier(n_neighbors=1)"
      ]
     },
     "execution_count": 974,
     "metadata": {},
     "output_type": "execute_result"
    }
   ],
   "source": [
    "#Creating the object for knn classifier\n",
    "knn_classifier = KNeighborsClassifier(n_neighbors=1)\n",
    "#Fitting the algorithm with training data i.e both features and labels\n",
    "knn_classifier.fit(X_train, y_train)"
   ]
  },
  {
   "cell_type": "code",
   "execution_count": 975,
   "id": "223ec9a8",
   "metadata": {},
   "outputs": [],
   "source": [
    "# Making predictions on the test dataset\n",
    "y_pred = knn_classifier.predict(Test_hog_features)"
   ]
  },
  {
   "cell_type": "code",
   "execution_count": 976,
   "id": "919c2558",
   "metadata": {},
   "outputs": [
    {
     "name": "stdout",
     "output_type": "stream",
     "text": [
      "Accuracy Score for the cellsize of (4,4) is 0.8736\n"
     ]
    }
   ],
   "source": [
    "# Evaluation Metrics\n",
    "C_Mat = confusion_matrix(Test_labels, y_pred)\n",
    "Accuracy_score=accuracy_score(Test_labels,y_pred)\n",
    "print(f'Accuracy Score for the cellsize of (4,4) is {Accuracy_score}')"
   ]
  },
  {
   "cell_type": "code",
   "execution_count": 977,
   "id": "86ac8e3b",
   "metadata": {},
   "outputs": [],
   "source": [
    "C_DF=pd.DataFrame(C_Mat,index=range(10),columns=range(10))"
   ]
  },
  {
   "cell_type": "code",
   "execution_count": 978,
   "id": "9fcfd3d5",
   "metadata": {},
   "outputs": [
    {
     "data": {
      "text/html": [
       "<div>\n",
       "<style scoped>\n",
       "    .dataframe tbody tr th:only-of-type {\n",
       "        vertical-align: middle;\n",
       "    }\n",
       "\n",
       "    .dataframe tbody tr th {\n",
       "        vertical-align: top;\n",
       "    }\n",
       "\n",
       "    .dataframe thead th {\n",
       "        text-align: right;\n",
       "    }\n",
       "</style>\n",
       "<table border=\"1\" class=\"dataframe\">\n",
       "  <thead>\n",
       "    <tr style=\"text-align: right;\">\n",
       "      <th></th>\n",
       "      <th>0</th>\n",
       "      <th>1</th>\n",
       "      <th>2</th>\n",
       "      <th>3</th>\n",
       "      <th>4</th>\n",
       "      <th>5</th>\n",
       "      <th>6</th>\n",
       "      <th>7</th>\n",
       "      <th>8</th>\n",
       "      <th>9</th>\n",
       "    </tr>\n",
       "  </thead>\n",
       "  <tbody>\n",
       "    <tr>\n",
       "      <th>0</th>\n",
       "      <td>202</td>\n",
       "      <td>0</td>\n",
       "      <td>0</td>\n",
       "      <td>0</td>\n",
       "      <td>0</td>\n",
       "      <td>0</td>\n",
       "      <td>4</td>\n",
       "      <td>0</td>\n",
       "      <td>0</td>\n",
       "      <td>44</td>\n",
       "    </tr>\n",
       "    <tr>\n",
       "      <th>1</th>\n",
       "      <td>0</td>\n",
       "      <td>250</td>\n",
       "      <td>0</td>\n",
       "      <td>0</td>\n",
       "      <td>0</td>\n",
       "      <td>0</td>\n",
       "      <td>0</td>\n",
       "      <td>0</td>\n",
       "      <td>0</td>\n",
       "      <td>0</td>\n",
       "    </tr>\n",
       "    <tr>\n",
       "      <th>2</th>\n",
       "      <td>0</td>\n",
       "      <td>0</td>\n",
       "      <td>200</td>\n",
       "      <td>0</td>\n",
       "      <td>50</td>\n",
       "      <td>0</td>\n",
       "      <td>0</td>\n",
       "      <td>0</td>\n",
       "      <td>0</td>\n",
       "      <td>0</td>\n",
       "    </tr>\n",
       "    <tr>\n",
       "      <th>3</th>\n",
       "      <td>0</td>\n",
       "      <td>0</td>\n",
       "      <td>0</td>\n",
       "      <td>196</td>\n",
       "      <td>0</td>\n",
       "      <td>41</td>\n",
       "      <td>6</td>\n",
       "      <td>0</td>\n",
       "      <td>7</td>\n",
       "      <td>0</td>\n",
       "    </tr>\n",
       "    <tr>\n",
       "      <th>4</th>\n",
       "      <td>0</td>\n",
       "      <td>0</td>\n",
       "      <td>0</td>\n",
       "      <td>0</td>\n",
       "      <td>250</td>\n",
       "      <td>0</td>\n",
       "      <td>0</td>\n",
       "      <td>0</td>\n",
       "      <td>0</td>\n",
       "      <td>0</td>\n",
       "    </tr>\n",
       "    <tr>\n",
       "      <th>5</th>\n",
       "      <td>0</td>\n",
       "      <td>0</td>\n",
       "      <td>0</td>\n",
       "      <td>9</td>\n",
       "      <td>0</td>\n",
       "      <td>234</td>\n",
       "      <td>0</td>\n",
       "      <td>0</td>\n",
       "      <td>0</td>\n",
       "      <td>7</td>\n",
       "    </tr>\n",
       "    <tr>\n",
       "      <th>6</th>\n",
       "      <td>0</td>\n",
       "      <td>0</td>\n",
       "      <td>0</td>\n",
       "      <td>1</td>\n",
       "      <td>0</td>\n",
       "      <td>0</td>\n",
       "      <td>200</td>\n",
       "      <td>0</td>\n",
       "      <td>0</td>\n",
       "      <td>49</td>\n",
       "    </tr>\n",
       "    <tr>\n",
       "      <th>7</th>\n",
       "      <td>0</td>\n",
       "      <td>0</td>\n",
       "      <td>7</td>\n",
       "      <td>0</td>\n",
       "      <td>3</td>\n",
       "      <td>0</td>\n",
       "      <td>0</td>\n",
       "      <td>240</td>\n",
       "      <td>0</td>\n",
       "      <td>0</td>\n",
       "    </tr>\n",
       "    <tr>\n",
       "      <th>8</th>\n",
       "      <td>0</td>\n",
       "      <td>0</td>\n",
       "      <td>0</td>\n",
       "      <td>21</td>\n",
       "      <td>8</td>\n",
       "      <td>2</td>\n",
       "      <td>0</td>\n",
       "      <td>0</td>\n",
       "      <td>200</td>\n",
       "      <td>19</td>\n",
       "    </tr>\n",
       "    <tr>\n",
       "      <th>9</th>\n",
       "      <td>0</td>\n",
       "      <td>5</td>\n",
       "      <td>0</td>\n",
       "      <td>7</td>\n",
       "      <td>0</td>\n",
       "      <td>0</td>\n",
       "      <td>0</td>\n",
       "      <td>25</td>\n",
       "      <td>1</td>\n",
       "      <td>212</td>\n",
       "    </tr>\n",
       "  </tbody>\n",
       "</table>\n",
       "</div>"
      ],
      "text/plain": [
       "     0    1    2    3    4    5    6    7    8    9\n",
       "0  202    0    0    0    0    0    4    0    0   44\n",
       "1    0  250    0    0    0    0    0    0    0    0\n",
       "2    0    0  200    0   50    0    0    0    0    0\n",
       "3    0    0    0  196    0   41    6    0    7    0\n",
       "4    0    0    0    0  250    0    0    0    0    0\n",
       "5    0    0    0    9    0  234    0    0    0    7\n",
       "6    0    0    0    1    0    0  200    0    0   49\n",
       "7    0    0    7    0    3    0    0  240    0    0\n",
       "8    0    0    0   21    8    2    0    0  200   19\n",
       "9    0    5    0    7    0    0    0   25    1  212"
      ]
     },
     "execution_count": 978,
     "metadata": {},
     "output_type": "execute_result"
    }
   ],
   "source": [
    "C_DF"
   ]
  },
  {
   "cell_type": "code",
   "execution_count": 979,
   "id": "643c0dc2",
   "metadata": {},
   "outputs": [
    {
     "data": {
      "image/png": "[encoded data removed]",
      "text/plain": [
       "<Figure size 600x600 with 2 Axes>"
      ]
     },
     "metadata": {},
     "output_type": "display_data"
    }
   ],
   "source": [
    "plt.figure(figsize=(6, 6))\n",
    "sns.heatmap(C_DF, annot=True, fmt='d',cmap=\"Blues\")\n",
    "plt.xlabel(\"Predicted\")\n",
    "plt.ylabel(\"Actual\")\n",
    "plt.title(\"Confusion Matrix of KNN Classifier using Hog Features of cell size(4,4)\")\n",
    "plt.show()"
   ]
  },
  {
   "cell_type": "markdown",
   "id": "24a436d7",
   "metadata": {},
   "source": [
    "# Feature extraction(Compass gradients)"
   ]
  },
  {
   "cell_type": "code",
   "execution_count": 435,
   "id": "d188531e",
   "metadata": {},
   "outputs": [],
   "source": [
    "def loading_and_feature_engineering_compassgradient(trainingdataset, image_extension='.jpg'):\n",
    "    images = []\n",
    "    Label_list = []\n",
    "    #Initialising the empty list\n",
    "    for root,dirs,cfiles in os.walk(trainingdataset):\n",
    "        for cimgfile in cfiles:#iterating over the each image file in the train dataset\n",
    "            # Checking if the file has the specified image extension\n",
    "            if cimgfile.lower().endswith(image_extension.lower()):\n",
    "                every_image_path = os.path.join(root, cimgfile)#Retrieving the image file path\n",
    "                num_image = io.imread(every_image_path)\n",
    "                compass_gradients = scharr(num_image)#Calculating compass gradient features using scharr operator\n",
    "                compass_gradients_flat = compass_gradients.flatten()#Flatten the compass gradient features to use as input             \n",
    "                images.append(compass_gradients_flat)\n",
    "                Labels = int(cimgfile.split('_')[1])\n",
    "                Label_list.append(Labels)\n",
    "                #Appending all the gradient features and respective features\n",
    "    return images, Label_list"
   ]
  },
  {
   "cell_type": "code",
   "execution_count": 436,
   "id": "e34ee2b7",
   "metadata": {},
   "outputs": [],
   "source": [
    "#Retrieving the features of train dataset from the described function\n",
    "compassfeat,compasslabels=loading_and_feature_engineering_compassgradient(folder_details)"
   ]
  },
  {
   "cell_type": "code",
   "execution_count": 948,
   "id": "cbceb3e8",
   "metadata": {},
   "outputs": [],
   "source": [
    "Feature_length_for_CG=len(compassfeat[1])"
   ]
  },
  {
   "cell_type": "code",
   "execution_count": 991,
   "id": "c3068e23",
   "metadata": {},
   "outputs": [],
   "source": [
    "compasslabels"
   ]
  },
  {
   "cell_type": "code",
   "execution_count": 439,
   "id": "3cc3b0c0",
   "metadata": {},
   "outputs": [
    {
     "data": {
      "text/plain": [
       "6000"
      ]
     },
     "execution_count": 439,
     "metadata": {},
     "output_type": "execute_result"
    }
   ],
   "source": [
    "len(compasslabels)"
   ]
  },
  {
   "cell_type": "code",
   "execution_count": 440,
   "id": "db5d703a",
   "metadata": {},
   "outputs": [
    {
     "data": {
      "text/plain": [
       "6000"
      ]
     },
     "execution_count": 440,
     "metadata": {},
     "output_type": "execute_result"
    }
   ],
   "source": [
    "len(compassfeat)"
   ]
  },
  {
   "cell_type": "code",
   "execution_count": 441,
   "id": "afc44534",
   "metadata": {},
   "outputs": [],
   "source": [
    "compassfeatarray=np.array(compassfeat)\n",
    "labelarray=np.array(compasslabels)"
   ]
  },
  {
   "cell_type": "markdown",
   "id": "1383e541",
   "metadata": {},
   "source": [
    "__Test data feature extraction__"
   ]
  },
  {
   "cell_type": "code",
   "execution_count": 442,
   "id": "132f3092",
   "metadata": {},
   "outputs": [],
   "source": [
    "#Retrieving the features of test dataset from the described function\n",
    "testcompassfeat,testcompasslabels=loading_and_feature_engineering_compassgradient(test_folder)"
   ]
  },
  {
   "cell_type": "code",
   "execution_count": 992,
   "id": "5373e801",
   "metadata": {},
   "outputs": [],
   "source": [
    "testcompassfeat"
   ]
  },
  {
   "cell_type": "code",
   "execution_count": 993,
   "id": "0c06d671",
   "metadata": {},
   "outputs": [],
   "source": [
    "testcompasslabels"
   ]
  },
  {
   "cell_type": "code",
   "execution_count": 447,
   "id": "048626e1",
   "metadata": {},
   "outputs": [],
   "source": [
    "#Getting the arrays from lists for the dataset split\n",
    "testcompassarray=np.array(testcompassfeat)\n",
    "testcompasslabels=np.array(testcompasslabels)"
   ]
  },
  {
   "cell_type": "markdown",
   "id": "514e6a94",
   "metadata": {},
   "source": [
    "__Training and test data split__"
   ]
  },
  {
   "cell_type": "code",
   "execution_count": 445,
   "id": "a3f2d779",
   "metadata": {},
   "outputs": [],
   "source": [
    "X_train, X_test, y_train, y_test = train_test_split(compassfeatarray,labelarray, test_size=0.1, random_state=42)"
   ]
  },
  {
   "cell_type": "markdown",
   "id": "90702488",
   "metadata": {},
   "source": [
    "- X=Compass Gradient Features\n",
    "- Y=Respective labels"
   ]
  },
  {
   "cell_type": "markdown",
   "id": "7718fb1f",
   "metadata": {},
   "source": [
    "# Feeding to Model"
   ]
  },
  {
   "cell_type": "code",
   "execution_count": 446,
   "id": "3f35c579",
   "metadata": {},
   "outputs": [
    {
     "data": {
      "text/html": [
       "<style>#sk-container-id-13 {color: black;background-color: white;}#sk-container-id-13 pre{padding: 0;}#sk-container-id-13 div.sk-toggleable {background-color: white;}#sk-container-id-13 label.sk-toggleable__label {cursor: pointer;display: block;width: 100%;margin-bottom: 0;padding: 0.3em;box-sizing: border-box;text-align: center;}#sk-container-id-13 label.sk-toggleable__label-arrow:before {content: \"▸\";float: left;margin-right: 0.25em;color: #696969;}#sk-container-id-13 label.sk-toggleable__label-arrow:hover:before {color: black;}#sk-container-id-13 div.sk-estimator:hover label.sk-toggleable__label-arrow:before {color: black;}#sk-container-id-13 div.sk-toggleable__content {max-height: 0;max-width: 0;overflow: hidden;text-align: left;background-color: #f0f8ff;}#sk-container-id-13 div.sk-toggleable__content pre {margin: 0.2em;color: black;border-radius: 0.25em;background-color: #f0f8ff;}#sk-container-id-13 input.sk-toggleable__control:checked~div.sk-toggleable__content {max-height: 200px;max-width: 100%;overflow: auto;}#sk-container-id-13 input.sk-toggleable__control:checked~label.sk-toggleable__label-arrow:before {content: \"▾\";}#sk-container-id-13 div.sk-estimator input.sk-toggleable__control:checked~label.sk-toggleable__label {background-color: #d4ebff;}#sk-container-id-13 div.sk-label input.sk-toggleable__control:checked~label.sk-toggleable__label {background-color: #d4ebff;}#sk-container-id-13 input.sk-hidden--visually {border: 0;clip: rect(1px 1px 1px 1px);clip: rect(1px, 1px, 1px, 1px);height: 1px;margin: -1px;overflow: hidden;padding: 0;position: absolute;width: 1px;}#sk-container-id-13 div.sk-estimator {font-family: monospace;background-color: #f0f8ff;border: 1px dotted black;border-radius: 0.25em;box-sizing: border-box;margin-bottom: 0.5em;}#sk-container-id-13 div.sk-estimator:hover {background-color: #d4ebff;}#sk-container-id-13 div.sk-parallel-item::after {content: \"\";width: 100%;border-bottom: 1px solid gray;flex-grow: 1;}#sk-container-id-13 div.sk-label:hover label.sk-toggleable__label {background-color: #d4ebff;}#sk-container-id-13 div.sk-serial::before {content: \"\";position: absolute;border-left: 1px solid gray;box-sizing: border-box;top: 0;bottom: 0;left: 50%;z-index: 0;}#sk-container-id-13 div.sk-serial {display: flex;flex-direction: column;align-items: center;background-color: white;padding-right: 0.2em;padding-left: 0.2em;position: relative;}#sk-container-id-13 div.sk-item {position: relative;z-index: 1;}#sk-container-id-13 div.sk-parallel {display: flex;align-items: stretch;justify-content: center;background-color: white;position: relative;}#sk-container-id-13 div.sk-item::before, #sk-container-id-13 div.sk-parallel-item::before {content: \"\";position: absolute;border-left: 1px solid gray;box-sizing: border-box;top: 0;bottom: 0;left: 50%;z-index: -1;}#sk-container-id-13 div.sk-parallel-item {display: flex;flex-direction: column;z-index: 1;position: relative;background-color: white;}#sk-container-id-13 div.sk-parallel-item:first-child::after {align-self: flex-end;width: 50%;}#sk-container-id-13 div.sk-parallel-item:last-child::after {align-self: flex-start;width: 50%;}#sk-container-id-13 div.sk-parallel-item:only-child::after {width: 0;}#sk-container-id-13 div.sk-dashed-wrapped {border: 1px dashed gray;margin: 0 0.4em 0.5em 0.4em;box-sizing: border-box;padding-bottom: 0.4em;background-color: white;}#sk-container-id-13 div.sk-label label {font-family: monospace;font-weight: bold;display: inline-block;line-height: 1.2em;}#sk-container-id-13 div.sk-label-container {text-align: center;}#sk-container-id-13 div.sk-container {/* jupyter's `normalize.less` sets `[hidden] { display: none; }` but bootstrap.min.css set `[hidden] { display: none !important; }` so we also need the `!important` here to be able to override the default hidden behavior on the sphinx rendered scikit-learn.org. See: https://github.com/scikit-learn/scikit-learn/issues/21755 */display: inline-block !important;position: relative;}#sk-container-id-13 div.sk-text-repr-fallback {display: none;}</style><div id=\"sk-container-id-13\" class=\"sk-top-container\"><div class=\"sk-text-repr-fallback\"><pre>KNeighborsClassifier(n_neighbors=1)</pre><b>In a Jupyter environment, please rerun this cell to show the HTML representation or trust the notebook. <br />On GitHub, the HTML representation is unable to render, please try loading this page with nbviewer.org.</b></div><div class=\"sk-container\" hidden><div class=\"sk-item\"><div class=\"sk-estimator sk-toggleable\"><input class=\"sk-toggleable__control sk-hidden--visually\" id=\"sk-estimator-id-13\" type=\"checkbox\" checked><label for=\"sk-estimator-id-13\" class=\"sk-toggleable__label sk-toggleable__label-arrow\">KNeighborsClassifier</label><div class=\"sk-toggleable__content\"><pre>KNeighborsClassifier(n_neighbors=1)</pre></div></div></div></div></div>"
      ],
      "text/plain": [
       "KNeighborsClassifier(n_neighbors=1)"
      ]
     },
     "execution_count": 446,
     "metadata": {},
     "output_type": "execute_result"
    }
   ],
   "source": [
    "#Fitting the training sample to the predefined knn classifier \n",
    "knn_classifier.fit(X_train,y_train)"
   ]
  },
  {
   "cell_type": "code",
   "execution_count": 449,
   "id": "8244ed4c",
   "metadata": {},
   "outputs": [],
   "source": [
    "#Predicting the labels of test data and assigning them to compasspred variable\n",
    "Compasspred=knn_classifier.predict(testcompassarray)"
   ]
  },
  {
   "cell_type": "code",
   "execution_count": 454,
   "id": "8fd5b8c5",
   "metadata": {},
   "outputs": [
    {
     "name": "stdout",
     "output_type": "stream",
     "text": [
      "0.7152\n"
     ]
    }
   ],
   "source": [
    "# Evaluation Metrics\n",
    "Compass_CMat = confusion_matrix(testcompasslabels,Compasspred)#Retrieving the confusion matrix\n",
    "Compass_Accuracy_score=accuracy_score(testcompasslabels,Compasspred)\n",
    "print(Compass_Accuracy_score)"
   ]
  },
  {
   "cell_type": "code",
   "execution_count": 981,
   "id": "f7388c55",
   "metadata": {},
   "outputs": [
    {
     "data": {
      "image/png": "[encoded data removed]",
      "text/plain": [
       "<Figure size 600x600 with 2 Axes>"
      ]
     },
     "metadata": {},
     "output_type": "display_data"
    }
   ],
   "source": [
    "plt.figure(figsize=(6, 6))\n",
    "sns.heatmap(Compass_CMat, annot=True, fmt='d',cmap=\"Blues\")\n",
    "plt.xlabel(\"Predicted\")\n",
    "plt.ylabel(\"Actual\")\n",
    "plt.title(\"Confusion Matrix of KNN Classifier using Hog Features\")\n",
    "plt.show()"
   ]
  },
  {
   "cell_type": "code",
   "execution_count": 457,
   "id": "1eac5993",
   "metadata": {},
   "outputs": [],
   "source": [
    "CompassDF=pd.DataFrame(C_Mat,index=range(10),columns=range(10))"
   ]
  },
  {
   "cell_type": "code",
   "execution_count": 458,
   "id": "acbef410",
   "metadata": {},
   "outputs": [
    {
     "data": {
      "text/html": [
       "<div>\n",
       "<style scoped>\n",
       "    .dataframe tbody tr th:only-of-type {\n",
       "        vertical-align: middle;\n",
       "    }\n",
       "\n",
       "    .dataframe tbody tr th {\n",
       "        vertical-align: top;\n",
       "    }\n",
       "\n",
       "    .dataframe thead th {\n",
       "        text-align: right;\n",
       "    }\n",
       "</style>\n",
       "<table border=\"1\" class=\"dataframe\">\n",
       "  <thead>\n",
       "    <tr style=\"text-align: right;\">\n",
       "      <th></th>\n",
       "      <th>0</th>\n",
       "      <th>1</th>\n",
       "      <th>2</th>\n",
       "      <th>3</th>\n",
       "      <th>4</th>\n",
       "      <th>5</th>\n",
       "      <th>6</th>\n",
       "      <th>7</th>\n",
       "      <th>8</th>\n",
       "      <th>9</th>\n",
       "    </tr>\n",
       "  </thead>\n",
       "  <tbody>\n",
       "    <tr>\n",
       "      <th>0</th>\n",
       "      <td>250</td>\n",
       "      <td>0</td>\n",
       "      <td>0</td>\n",
       "      <td>0</td>\n",
       "      <td>0</td>\n",
       "      <td>0</td>\n",
       "      <td>0</td>\n",
       "      <td>0</td>\n",
       "      <td>0</td>\n",
       "      <td>0</td>\n",
       "    </tr>\n",
       "    <tr>\n",
       "      <th>1</th>\n",
       "      <td>0</td>\n",
       "      <td>247</td>\n",
       "      <td>0</td>\n",
       "      <td>0</td>\n",
       "      <td>0</td>\n",
       "      <td>0</td>\n",
       "      <td>0</td>\n",
       "      <td>3</td>\n",
       "      <td>0</td>\n",
       "      <td>0</td>\n",
       "    </tr>\n",
       "    <tr>\n",
       "      <th>2</th>\n",
       "      <td>0</td>\n",
       "      <td>0</td>\n",
       "      <td>195</td>\n",
       "      <td>0</td>\n",
       "      <td>50</td>\n",
       "      <td>0</td>\n",
       "      <td>0</td>\n",
       "      <td>5</td>\n",
       "      <td>0</td>\n",
       "      <td>0</td>\n",
       "    </tr>\n",
       "    <tr>\n",
       "      <th>3</th>\n",
       "      <td>48</td>\n",
       "      <td>0</td>\n",
       "      <td>0</td>\n",
       "      <td>150</td>\n",
       "      <td>2</td>\n",
       "      <td>0</td>\n",
       "      <td>3</td>\n",
       "      <td>0</td>\n",
       "      <td>47</td>\n",
       "      <td>0</td>\n",
       "    </tr>\n",
       "    <tr>\n",
       "      <th>4</th>\n",
       "      <td>0</td>\n",
       "      <td>0</td>\n",
       "      <td>0</td>\n",
       "      <td>37</td>\n",
       "      <td>213</td>\n",
       "      <td>0</td>\n",
       "      <td>0</td>\n",
       "      <td>0</td>\n",
       "      <td>0</td>\n",
       "      <td>0</td>\n",
       "    </tr>\n",
       "    <tr>\n",
       "      <th>5</th>\n",
       "      <td>50</td>\n",
       "      <td>0</td>\n",
       "      <td>0</td>\n",
       "      <td>0</td>\n",
       "      <td>0</td>\n",
       "      <td>99</td>\n",
       "      <td>70</td>\n",
       "      <td>0</td>\n",
       "      <td>31</td>\n",
       "      <td>0</td>\n",
       "    </tr>\n",
       "    <tr>\n",
       "      <th>6</th>\n",
       "      <td>95</td>\n",
       "      <td>0</td>\n",
       "      <td>0</td>\n",
       "      <td>0</td>\n",
       "      <td>0</td>\n",
       "      <td>50</td>\n",
       "      <td>103</td>\n",
       "      <td>0</td>\n",
       "      <td>2</td>\n",
       "      <td>0</td>\n",
       "    </tr>\n",
       "    <tr>\n",
       "      <th>7</th>\n",
       "      <td>0</td>\n",
       "      <td>1</td>\n",
       "      <td>43</td>\n",
       "      <td>0</td>\n",
       "      <td>17</td>\n",
       "      <td>0</td>\n",
       "      <td>0</td>\n",
       "      <td>183</td>\n",
       "      <td>0</td>\n",
       "      <td>6</td>\n",
       "    </tr>\n",
       "    <tr>\n",
       "      <th>8</th>\n",
       "      <td>50</td>\n",
       "      <td>0</td>\n",
       "      <td>0</td>\n",
       "      <td>2</td>\n",
       "      <td>0</td>\n",
       "      <td>0</td>\n",
       "      <td>50</td>\n",
       "      <td>0</td>\n",
       "      <td>148</td>\n",
       "      <td>0</td>\n",
       "    </tr>\n",
       "    <tr>\n",
       "      <th>9</th>\n",
       "      <td>0</td>\n",
       "      <td>0</td>\n",
       "      <td>0</td>\n",
       "      <td>0</td>\n",
       "      <td>0</td>\n",
       "      <td>0</td>\n",
       "      <td>0</td>\n",
       "      <td>50</td>\n",
       "      <td>0</td>\n",
       "      <td>200</td>\n",
       "    </tr>\n",
       "  </tbody>\n",
       "</table>\n",
       "</div>"
      ],
      "text/plain": [
       "     0    1    2    3    4   5    6    7    8    9\n",
       "0  250    0    0    0    0   0    0    0    0    0\n",
       "1    0  247    0    0    0   0    0    3    0    0\n",
       "2    0    0  195    0   50   0    0    5    0    0\n",
       "3   48    0    0  150    2   0    3    0   47    0\n",
       "4    0    0    0   37  213   0    0    0    0    0\n",
       "5   50    0    0    0    0  99   70    0   31    0\n",
       "6   95    0    0    0    0  50  103    0    2    0\n",
       "7    0    1   43    0   17   0    0  183    0    6\n",
       "8   50    0    0    2    0   0   50    0  148    0\n",
       "9    0    0    0    0    0   0    0   50    0  200"
      ]
     },
     "execution_count": 458,
     "metadata": {},
     "output_type": "execute_result"
    }
   ],
   "source": [
    "CompassDF"
   ]
  },
  {
   "cell_type": "markdown",
   "id": "3fe00c2a",
   "metadata": {},
   "source": [
    "# Outcome Discusiion and Conclusion"
   ]
  },
  {
   "cell_type": "code",
   "execution_count": 982,
   "id": "a3c7dbdc",
   "metadata": {},
   "outputs": [
    {
     "name": "stdout",
     "output_type": "stream",
     "text": [
      "Accuracy Score of the KNN classifier for a HOG cell size of (2,2) is 0.8184\n",
      "Accuracy Score of the KNN classifier for a HOG cell size of (4,4) is 0.8736\n",
      "Accuracy Score of the KNN classifier for a HOG cell size of (8,8) is 0.8184\n"
     ]
    }
   ],
   "source": [
    "print(f'Accuracy Score of the KNN classifier for a HOG cell size of (2,2) is {Accuracy_score_twobytwo}\\n'\n",
    "      f'Accuracy Score of the KNN classifier for a HOG cell size of (4,4) is {Accuracy_score_fourbyfour}\\n'\n",
    "      f'Accuracy Score of the KNN classifier for a HOG cell size of (8,8) is {Accuracy_score_Eightbyeight}')"
   ]
  },
  {
   "cell_type": "code",
   "execution_count": 983,
   "id": "9a116b01",
   "metadata": {},
   "outputs": [
    {
     "name": "stdout",
     "output_type": "stream",
     "text": [
      "Feature length for a HOG cell size of (2,2) is (1764,)\n",
      "Feature lengthfor a HOG cell size of (4,4) is (324,)\n",
      "Feature length for a HOG cell size of (8,8) is (36,)\n"
     ]
    }
   ],
   "source": [
    "print(f'Feature length for a HOG cell size of (2,2) is {HOg_Feature_length_for_two}\\n'\n",
    "      f'Feature lengthfor a HOG cell size of (4,4) is {HOg_Feature_length_for_four}\\n'\n",
    "      f'Feature length for a HOG cell size of (8,8) is {HOg_Feature_length_for_eight}')"
   ]
  },
  {
   "cell_type": "code",
   "execution_count": 984,
   "id": "0dd599dc",
   "metadata": {},
   "outputs": [
    {
     "name": "stdout",
     "output_type": "stream",
     "text": [
      "Feature length When compass gradient technique appllied is 256\n",
      "Accuracy Score of the KNN classifier using Compass Gradient features is 0.7152\n"
     ]
    }
   ],
   "source": [
    "print(f'Feature length When compass gradient technique appllied is {Feature_length_for_CG}\\n'\n",
    "     f'Accuracy Score of the KNN classifier using Compass Gradient features is {Compass_Accuracy_score}')"
   ]
  },
  {
   "cell_type": "markdown",
   "id": "7be28931",
   "metadata": {},
   "source": [
    "__Considering the Above evaluation metrics (i.e Accuracy Scores and Confusion matrices),respective feature lengths and the time taken for the operation.__\n",
    "\n",
    "__1.We can conclude that HOG technique performed better when compared to the compass gradient technique for the feature extraction in this case for the working datasets.__\n",
    "\n",
    "__2.Hog relatively performed well with a better accuracy with a limited number of features i.e considering the second and third combinations of hog with a cell size of (4,4) and (8,8) with a feature length of 324 and 36 respectively whereas hog with a feature length of 256 is able to produce just 0.7152 which is comparitively less when compared to both the cases of hog(Here not comparing with the hog (2,2) cell size because of it's feature length and it's prolonged time taking process)__\n",
    "\n",
    "__3.When it comes to the selection of best HOG combination (8,8) cell size would be considerably better with a less number of features and a bit more accuracy when compared to the rest of the combinations__\n"
   ]
  },
  {
   "cell_type": "code",
   "execution_count": null,
   "id": "ab7890a7",
   "metadata": {},
   "outputs": [],
   "source": []
  }
 ],
 "metadata": {
  "kernelspec": {
   "display_name": "Python 3 (ipykernel)",
   "language": "python",
   "name": "python3"
  },
  "language_info": {
   "codemirror_mode": {
    "name": "ipython",
    "version": 3
   },
   "file_extension": ".py",
   "mimetype": "text/x-python",
   "name": "python",
   "nbconvert_exporter": "python",
   "pygments_lexer": "ipython3",
   "version": "3.10.13"
  }
 },
 "nbformat": 4,
 "nbformat_minor": 5
}
